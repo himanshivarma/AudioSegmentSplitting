{
  "nbformat": 4,
  "nbformat_minor": 0,
  "metadata": {
    "colab": {
      "provenance": [],
      "authorship_tag": "ABX9TyPme/gqPUhIX+DSKXGwLArg",
      "include_colab_link": true
    },
    "kernelspec": {
      "name": "python3",
      "display_name": "Python 3"
    },
    "language_info": {
      "name": "python"
    }
  },
  "cells": [
    {
      "cell_type": "markdown",
      "metadata": {
        "id": "view-in-github",
        "colab_type": "text"
      },
      "source": [
        "<a href=\"https://colab.research.google.com/github/himanshivarma/AudioSegmentSplitting/blob/main/Audio_segmentation_modification.ipynb\" target=\"_parent\"><img src=\"https://colab.research.google.com/assets/colab-badge.svg\" alt=\"Open In Colab\"/></a>"
      ]
    },
    {
      "cell_type": "code",
      "execution_count": 25,
      "metadata": {
        "colab": {
          "base_uri": "https://localhost:8080/"
        },
        "id": "mh9f0jUr2iIK",
        "outputId": "74ff5d5e-c0e0-4f19-c3a3-068fb6d76215"
      },
      "outputs": [
        {
          "output_type": "stream",
          "name": "stdout",
          "text": [
            "Requirement already satisfied: pydub in /usr/local/lib/python3.10/dist-packages (0.25.1)\n",
            "Exporting audio_segments/segment1.wav\n",
            "Exporting audio_segments/segment2.wav\n",
            "Exporting audio_segments/segment3.wav\n",
            "Segment export completed.\n"
          ]
        }
      ],
      "source": [
        "import os\n",
        "!pip install pydub\n",
        "from pydub import AudioSegment\n",
        "\n",
        "audio_file = \"audio.wav\"\n",
        "\n",
        "# Load the audio file\n",
        "sound_file = AudioSegment.from_wav(\"audio.wav\")\n",
        "\n",
        "\n",
        "# Read the segment times from the text file\n",
        "with open(\"segment_times.txt\", \"r\") as file:\n",
        "    segment_times = [list(map(float, line.strip().split())) for line in file]\n",
        "\n",
        "# Create a directory to store the segments\n",
        "output_directory = \"audio_segments\"\n",
        "os.makedirs(output_directory, exist_ok=True)\n",
        "\n",
        "# Extract and export each segment\n",
        "for i, (start_time, end_time) in enumerate(segment_times):\n",
        "    start_time_ms = int(start_time * 1000)\n",
        "    end_time_ms = int(end_time * 1000)\n",
        "    segment_duration = end_time - start_time\n",
        "\n",
        "    segment = sound_file[start_time_ms:end_time_ms]\n",
        "\n",
        "    # Adjust the segment duration by trimming and appending silence\n",
        "    if segment_duration < segment.duration_seconds:\n",
        "        segment = segment[:int(segment_duration * 1000)]\n",
        "    elif segment_duration > segment.duration_seconds:\n",
        "        silence_duration = segment_duration - segment.duration_seconds\n",
        "        silence = AudioSegment.silent(duration=int(silence_duration * 1000))\n",
        "        segment = segment + silence\n",
        "\n",
        "    out_file = os.path.join(output_directory, f\"segment{i+1}.wav\")\n",
        "    print(\"Exporting\", out_file)\n",
        "    segment.export(out_file, format=\"wav\")\n",
        "\n",
        "print(\"Segment export completed.\")\n",
        "\n",
        "\n"
      ]
    }
  ]
}